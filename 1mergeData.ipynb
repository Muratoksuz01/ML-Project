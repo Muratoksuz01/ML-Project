{
 "cells": [
  {
   "cell_type": "code",
   "execution_count": 2,
   "metadata": {},
   "outputs": [],
   "source": [
    "import os\n",
    "import pandas as pd"
   ]
  },
  {
   "cell_type": "code",
   "execution_count": 3,
   "metadata": {},
   "outputs": [],
   "source": [
    "workingFolder=\"C:\\\\Users\\\\denem\\\\Downloads\\\\karmasık\"\n"
   ]
  },
  {
   "cell_type": "code",
   "execution_count": 4,
   "metadata": {},
   "outputs": [
    {
     "name": "stdout",
     "output_type": "stream",
     "text": [
      "C:\\Users\\denem\\Downloads\\karmasık\n"
     ]
    }
   ],
   "source": [
    "print(workingFolder)"
   ]
  },
  {
   "cell_type": "code",
   "execution_count": 5,
   "metadata": {},
   "outputs": [],
   "source": [
    "allDir=os.listdir(workingFolder)"
   ]
  },
  {
   "cell_type": "code",
   "execution_count": 6,
   "metadata": {},
   "outputs": [],
   "source": [
    "allDir.remove(\"Kaotik Yapı Datalar.xlsx\")"
   ]
  },
  {
   "cell_type": "code",
   "execution_count": 7,
   "metadata": {},
   "outputs": [],
   "source": [
    "df=pd.read_excel(workingFolder+\"\\\\Kaotik Yapı Datalar.xlsx\")"
   ]
  },
  {
   "cell_type": "code",
   "execution_count": 8,
   "metadata": {},
   "outputs": [
    {
     "name": "stdout",
     "output_type": "stream",
     "text": [
      "Index(['Kullanılan Kaotik Yapı Ve Parametreleri ', 'CSV uzantısı'], dtype='object')\n"
     ]
    }
   ],
   "source": [
    "print(df.columns)"
   ]
  },
  {
   "cell_type": "code",
   "execution_count": 9,
   "metadata": {},
   "outputs": [
    {
     "data": {
      "text/plain": [
       "'Halvorsen ( a =1.66, x0=4.48, y0=3.08, z0=3.58, h=0.015 )'"
      ]
     },
     "execution_count": 9,
     "metadata": {},
     "output_type": "execute_result"
    }
   ],
   "source": [
    "df[\"Kullanılan Kaotik Yapı Ve Parametreleri \"][0]"
   ]
  },
  {
   "cell_type": "code",
   "execution_count": 10,
   "metadata": {},
   "outputs": [
    {
     "data": {
      "text/plain": [
       "'2, x'"
      ]
     },
     "execution_count": 10,
     "metadata": {},
     "output_type": "execute_result"
    }
   ],
   "source": [
    "df[\"Kullanılan Kaotik Yapı Ve Parametreleri \"][33][15:19]"
   ]
  },
  {
   "cell_type": "code",
   "execution_count": 11,
   "metadata": {},
   "outputs": [],
   "source": [
    "alfas=[] # add all alfa values to alfas[]\n",
    "for i in df[\"Kullanılan Kaotik Yapı Ve Parametreleri \"]:\n",
    "    a=i[15:19]\n",
    "    alfas.append(a)\n",
    "alfas[33]=\"2\"\n"
   ]
  },
  {
   "cell_type": "code",
   "execution_count": 12,
   "metadata": {},
   "outputs": [
    {
     "data": {
      "text/plain": [
       "['1.66',\n",
       " '1.68',\n",
       " '1.69',\n",
       " '1.70',\n",
       " '1.71',\n",
       " '1.72',\n",
       " '1.73',\n",
       " '1.74',\n",
       " '1.75',\n",
       " '1.76',\n",
       " '1.77',\n",
       " '1.78',\n",
       " '1.79',\n",
       " '1.80',\n",
       " '1.81',\n",
       " '1.82',\n",
       " '1.83',\n",
       " '1.84',\n",
       " '1.85',\n",
       " '1.86',\n",
       " '1.87',\n",
       " '1.88',\n",
       " '1.89',\n",
       " '1.90',\n",
       " '1.91',\n",
       " '1.92',\n",
       " '1.93',\n",
       " '1.94',\n",
       " '1.95',\n",
       " '1.96',\n",
       " '1.97',\n",
       " '1.98',\n",
       " '1.99',\n",
       " '2']"
      ]
     },
     "execution_count": 12,
     "metadata": {},
     "output_type": "execute_result"
    }
   ],
   "source": [
    "alfas"
   ]
  },
  {
   "cell_type": "code",
   "execution_count": 13,
   "metadata": {},
   "outputs": [],
   "source": [
    "\n",
    "df1 = pd.read_csv(workingFolder+\"\\\\\"+allDir[0], sep=r'\\s+',skiprows=1)"
   ]
  },
  {
   "cell_type": "code",
   "execution_count": 14,
   "metadata": {},
   "outputs": [
    {
     "data": {
      "text/plain": [
       "1002"
      ]
     },
     "execution_count": 14,
     "metadata": {},
     "output_type": "execute_result"
    }
   ],
   "source": [
    "df1.shape[0]"
   ]
  },
  {
   "cell_type": "code",
   "execution_count": 15,
   "metadata": {},
   "outputs": [],
   "source": [
    "df1.columns=[\"frenkans\",\"emilim\"]\n",
    "df1=df1.iloc[1:].reset_index(drop=True)"
   ]
  },
  {
   "cell_type": "code",
   "execution_count": 16,
   "metadata": {},
   "outputs": [
    {
     "data": {
      "text/html": [
       "<div>\n",
       "<style scoped>\n",
       "    .dataframe tbody tr th:only-of-type {\n",
       "        vertical-align: middle;\n",
       "    }\n",
       "\n",
       "    .dataframe tbody tr th {\n",
       "        vertical-align: top;\n",
       "    }\n",
       "\n",
       "    .dataframe thead th {\n",
       "        text-align: right;\n",
       "    }\n",
       "</style>\n",
       "<table border=\"1\" class=\"dataframe\">\n",
       "  <thead>\n",
       "    <tr style=\"text-align: right;\">\n",
       "      <th></th>\n",
       "      <th>frenkans</th>\n",
       "      <th>emilim</th>\n",
       "    </tr>\n",
       "  </thead>\n",
       "  <tbody>\n",
       "    <tr>\n",
       "      <th>0</th>\n",
       "      <td>1.0000000000000</td>\n",
       "      <td>0.803021</td>\n",
       "    </tr>\n",
       "    <tr>\n",
       "      <th>1</th>\n",
       "      <td>1.0190000000000</td>\n",
       "      <td>0.805422</td>\n",
       "    </tr>\n",
       "    <tr>\n",
       "      <th>2</th>\n",
       "      <td>1.0380000000000</td>\n",
       "      <td>0.807794</td>\n",
       "    </tr>\n",
       "    <tr>\n",
       "      <th>3</th>\n",
       "      <td>1.0570000000000</td>\n",
       "      <td>0.810139</td>\n",
       "    </tr>\n",
       "    <tr>\n",
       "      <th>4</th>\n",
       "      <td>1.0760000000000</td>\n",
       "      <td>0.812456</td>\n",
       "    </tr>\n",
       "  </tbody>\n",
       "</table>\n",
       "</div>"
      ],
      "text/plain": [
       "          frenkans    emilim\n",
       "0  1.0000000000000  0.803021\n",
       "1  1.0190000000000  0.805422\n",
       "2  1.0380000000000  0.807794\n",
       "3  1.0570000000000  0.810139\n",
       "4  1.0760000000000  0.812456"
      ]
     },
     "execution_count": 16,
     "metadata": {},
     "output_type": "execute_result"
    }
   ],
   "source": [
    "df1.head()"
   ]
  },
  {
   "cell_type": "code",
   "execution_count": 17,
   "metadata": {},
   "outputs": [
    {
     "data": {
      "text/plain": [
       "Index(['frenkans', 'emilim'], dtype='object')"
      ]
     },
     "execution_count": 17,
     "metadata": {},
     "output_type": "execute_result"
    }
   ],
   "source": [
    "df1.columns"
   ]
  },
  {
   "cell_type": "code",
   "execution_count": 18,
   "metadata": {},
   "outputs": [
    {
     "data": {
      "text/plain": [
       "1001"
      ]
     },
     "execution_count": 18,
     "metadata": {},
     "output_type": "execute_result"
    }
   ],
   "source": [
    "len(df1)"
   ]
  },
  {
   "cell_type": "code",
   "execution_count": 93,
   "metadata": {},
   "outputs": [
    {
     "data": {
      "text/plain": [
       "['halvorsen_a_1.660000e+00.csv',\n",
       " 'halvorsen_a_1.680000e+00.csv',\n",
       " 'halvorsen_a_1.690000e+00.csv',\n",
       " 'halvorsen_a_1.700000e+00.csv',\n",
       " 'halvorsen_a_1.710000e+00.csv',\n",
       " 'halvorsen_a_1.720000e+00.csv',\n",
       " 'halvorsen_a_1.730000e+00.csv',\n",
       " 'halvorsen_a_1.740000e+00.csv',\n",
       " 'halvorsen_a_1.750000e+00.csv',\n",
       " 'halvorsen_a_1.760000e+00.csv',\n",
       " 'halvorsen_a_1.770000e+00.csv',\n",
       " 'halvorsen_a_1.780000e+00.csv',\n",
       " 'halvorsen_a_1.790000e+00.csv',\n",
       " 'halvorsen_a_1.800000e+00.csv',\n",
       " 'halvorsen_a_1.810000e+00.csv',\n",
       " 'halvorsen_a_1.820000e+00.csv',\n",
       " 'halvorsen_a_1.830000e+00.csv',\n",
       " 'halvorsen_a_1.840000e+00.csv',\n",
       " 'halvorsen_a_1.850000e+00.csv',\n",
       " 'halvorsen_a_1.860000e+00.csv',\n",
       " 'halvorsen_a_1.870000e+00.csv',\n",
       " 'halvorsen_a_1.880000e+00.csv',\n",
       " 'halvorsen_a_1.890000e+00).csv',\n",
       " 'halvorsen_a_1.900000e+00.csv',\n",
       " 'halvorsen_a_1.910000e+00.csv',\n",
       " 'halvorsen_a_1.920000e+00.csv',\n",
       " 'halvorsen_a_1.930000e+00.csv',\n",
       " 'halvorsen_a_1.940000e+00.csv',\n",
       " 'halvorsen_a_1.950000e+00.csv',\n",
       " 'halvorsen_a_1.960000e+00.csv',\n",
       " 'halvorsen_a_1.970000e+00.csv',\n",
       " 'halvorsen_a_1.980000e+00.csv',\n",
       " 'halvorsen_a_1.990000e+00.csv',\n",
       " 'halvorsen_a_2.csv']"
      ]
     },
     "execution_count": 93,
     "metadata": {},
     "output_type": "execute_result"
    }
   ],
   "source": [
    "allDir"
   ]
  },
  {
   "cell_type": "code",
   "execution_count": null,
   "metadata": {},
   "outputs": [],
   "source": [
    "for i in alfas:\n",
    "    name= next((a for a in allDir if i.startswith(a)),None)\n",
    "    tdf=pd.read_csv(workingFolder+\"\\\\\"+name, sep=r'\\s+',skiprows=1)\n",
    "    tdf.columns=[\"frenkans\",\"emilim\"]\n",
    "    tdf=tdf.iloc[1:].reset_index(drop=True)\n",
    "    frenkans=tdf.iloc[:, 0]\n",
    "    emilim=tdf.iloc[:, 1]\n",
    "    aa=[i for i in range(tdf.shape[0])]\n",
    "    data={\"Alfas\":aa,\n",
    "      \"Frenkans\":frenkans,\n",
    "      \"emilim\":emilim}\n",
    "    realData=pd.DataFrame(data)"
   ]
  },
  {
   "cell_type": "code",
   "execution_count": 83,
   "metadata": {},
   "outputs": [],
   "source": [
    "allDir.remove(\".~lock.halvorsen_a_1.660000e+00.csv#\")"
   ]
  },
  {
   "cell_type": "code",
   "execution_count": 20,
   "metadata": {},
   "outputs": [
    {
     "data": {
      "text/plain": [
       "['1.66',\n",
       " '1.68',\n",
       " '1.69',\n",
       " '1.70',\n",
       " '1.71',\n",
       " '1.72',\n",
       " '1.73',\n",
       " '1.74',\n",
       " '1.75',\n",
       " '1.76',\n",
       " '1.77',\n",
       " '1.78',\n",
       " '1.79',\n",
       " '1.80',\n",
       " '1.81',\n",
       " '1.82',\n",
       " '1.83',\n",
       " '1.84',\n",
       " '1.85',\n",
       " '1.86',\n",
       " '1.87',\n",
       " '1.88',\n",
       " '1.89',\n",
       " '1.90',\n",
       " '1.91',\n",
       " '1.92',\n",
       " '1.93',\n",
       " '1.94',\n",
       " '1.95',\n",
       " '1.96',\n",
       " '1.97',\n",
       " '1.98',\n",
       " '1.99',\n",
       " '2']"
      ]
     },
     "execution_count": 20,
     "metadata": {},
     "output_type": "execute_result"
    }
   ],
   "source": [
    "alfas"
   ]
  },
  {
   "cell_type": "code",
   "execution_count": null,
   "metadata": {},
   "outputs": [
    {
     "ename": "KeyboardInterrupt",
     "evalue": "",
     "output_type": "error",
     "traceback": [
      "\u001b[1;31m---------------------------------------------------------------------------\u001b[0m",
      "\u001b[1;31mKeyboardInterrupt\u001b[0m                         Traceback (most recent call last)",
      "Cell \u001b[1;32mIn[92], line 13\u001b[0m\n\u001b[0;32m      9\u001b[0m \u001b[38;5;28;01mfor\u001b[39;00m i \u001b[38;5;129;01min\u001b[39;00m alfas[\u001b[38;5;241m33\u001b[39m:]:\n\u001b[0;32m     10\u001b[0m     \u001b[38;5;66;03m# Dosya adını alıyoruz, alfas değerini bilimsel gösterimle eşleştiriyoruz\u001b[39;00m\n\u001b[0;32m     11\u001b[0m     name \u001b[38;5;241m=\u001b[39m \u001b[38;5;28mnext\u001b[39m((a \u001b[38;5;28;01mfor\u001b[39;00m a \u001b[38;5;129;01min\u001b[39;00m allDir \u001b[38;5;28;01mif\u001b[39;00m i \u001b[38;5;129;01min\u001b[39;00m a), \u001b[38;5;28;01mNone\u001b[39;00m)\n\u001b[1;32m---> 13\u001b[0m     \u001b[38;5;28;01mif\u001b[39;00m \u001b[43mname\u001b[49m:  \u001b[38;5;66;03m# Eğer dosya adı bulunduysa\u001b[39;00m\n\u001b[0;32m     14\u001b[0m         \u001b[38;5;66;03m# Dosyayı okuyoruz\u001b[39;00m\n\u001b[0;32m     15\u001b[0m         tdf \u001b[38;5;241m=\u001b[39m pd\u001b[38;5;241m.\u001b[39mread_csv(workingFolder\u001b[38;5;241m+\u001b[39m\u001b[38;5;124m\"\u001b[39m\u001b[38;5;130;01m\\\\\u001b[39;00m\u001b[38;5;124m\"\u001b[39m\u001b[38;5;241m+\u001b[39mname, sep\u001b[38;5;241m=\u001b[39m\u001b[38;5;124mr\u001b[39m\u001b[38;5;124m'\u001b[39m\u001b[38;5;124m\\\u001b[39m\u001b[38;5;124ms+\u001b[39m\u001b[38;5;124m'\u001b[39m, skiprows\u001b[38;5;241m=\u001b[39m\u001b[38;5;241m1\u001b[39m)\n\u001b[0;32m     17\u001b[0m         \u001b[38;5;66;03m# Kolon isimlerini ayarlıyoruz\u001b[39;00m\n",
      "File \u001b[1;32m<stringsource>:69\u001b[0m, in \u001b[0;36mcfunc.to_py.__Pyx_CFunc_b0409f__29_pydevd_sys_monitoring_cython_object__lParen__etc_to_py_4code_4line.wrap\u001b[1;34m()\u001b[0m\n",
      "File \u001b[1;32m_pydevd_sys_monitoring\\\\_pydevd_sys_monitoring_cython.pyx:1466\u001b[0m, in \u001b[0;36m_pydevd_sys_monitoring_cython._line_event\u001b[1;34m()\u001b[0m\n",
      "File \u001b[1;32m_pydevd_sys_monitoring\\\\_pydevd_sys_monitoring_cython.pyx:1549\u001b[0m, in \u001b[0;36m_pydevd_sys_monitoring_cython._internal_line_event\u001b[1;34m()\u001b[0m\n",
      "File \u001b[1;32m_pydevd_sys_monitoring\\\\_pydevd_sys_monitoring_cython.pyx:1946\u001b[0m, in \u001b[0;36m_pydevd_sys_monitoring_cython._do_wait_suspend\u001b[1;34m()\u001b[0m\n",
      "File \u001b[1;32mc:\\Users\\denem\\Documents\\python\\Karmasik\\myenv\\Lib\\site-packages\\debugpy\\_vendored\\pydevd\\pydevd.py:2181\u001b[0m, in \u001b[0;36mPyDB.do_wait_suspend\u001b[1;34m(self, thread, frame, event, arg, exception_type)\u001b[0m\n\u001b[0;32m   2178\u001b[0m             from_this_thread\u001b[38;5;241m.\u001b[39mappend(frame_custom_thread_id)\n\u001b[0;32m   2180\u001b[0m     \u001b[38;5;28;01mwith\u001b[39;00m \u001b[38;5;28mself\u001b[39m\u001b[38;5;241m.\u001b[39m_threads_suspended_single_notification\u001b[38;5;241m.\u001b[39mnotify_thread_suspended(thread_id, thread, stop_reason):\n\u001b[1;32m-> 2181\u001b[0m         keep_suspended \u001b[38;5;241m=\u001b[39m \u001b[38;5;28;43mself\u001b[39;49m\u001b[38;5;241;43m.\u001b[39;49m\u001b[43m_do_wait_suspend\u001b[49m\u001b[43m(\u001b[49m\u001b[43mthread\u001b[49m\u001b[43m,\u001b[49m\u001b[43m \u001b[49m\u001b[43mframe\u001b[49m\u001b[43m,\u001b[49m\u001b[43m \u001b[49m\u001b[43mevent\u001b[49m\u001b[43m,\u001b[49m\u001b[43m \u001b[49m\u001b[43marg\u001b[49m\u001b[43m,\u001b[49m\u001b[43m \u001b[49m\u001b[43mtrace_suspend_type\u001b[49m\u001b[43m,\u001b[49m\u001b[43m \u001b[49m\u001b[43mfrom_this_thread\u001b[49m\u001b[43m,\u001b[49m\u001b[43m \u001b[49m\u001b[43mframes_tracker\u001b[49m\u001b[43m)\u001b[49m\n\u001b[0;32m   2183\u001b[0m frames_list \u001b[38;5;241m=\u001b[39m \u001b[38;5;28;01mNone\u001b[39;00m\n\u001b[0;32m   2185\u001b[0m \u001b[38;5;28;01mif\u001b[39;00m keep_suspended:\n\u001b[0;32m   2186\u001b[0m     \u001b[38;5;66;03m# This means that we should pause again after a set next statement.\u001b[39;00m\n",
      "File \u001b[1;32mc:\\Users\\denem\\Documents\\python\\Karmasik\\myenv\\Lib\\site-packages\\debugpy\\_vendored\\pydevd\\pydevd.py:2250\u001b[0m, in \u001b[0;36mPyDB._do_wait_suspend\u001b[1;34m(self, thread, frame, event, arg, trace_suspend_type, from_this_thread, frames_tracker)\u001b[0m\n\u001b[0;32m   2247\u001b[0m                 queue\u001b[38;5;241m.\u001b[39mput(internal_cmd)\n\u001b[0;32m   2248\u001b[0m                 wait_timeout \u001b[38;5;241m=\u001b[39m TIMEOUT_FAST\n\u001b[1;32m-> 2250\u001b[0m         \u001b[43mnotify_event\u001b[49m\u001b[38;5;241;43m.\u001b[39;49m\u001b[43mwait\u001b[49m\u001b[43m(\u001b[49m\u001b[43mwait_timeout\u001b[49m\u001b[43m)\u001b[49m\n\u001b[0;32m   2251\u001b[0m         notify_event\u001b[38;5;241m.\u001b[39mclear()\n\u001b[0;32m   2253\u001b[0m \u001b[38;5;28;01mfinally\u001b[39;00m:\n",
      "File \u001b[1;32mC:\\Python312\\Lib\\threading.py:655\u001b[0m, in \u001b[0;36mEvent.wait\u001b[1;34m(self, timeout)\u001b[0m\n\u001b[0;32m    653\u001b[0m signaled \u001b[38;5;241m=\u001b[39m \u001b[38;5;28mself\u001b[39m\u001b[38;5;241m.\u001b[39m_flag\n\u001b[0;32m    654\u001b[0m \u001b[38;5;28;01mif\u001b[39;00m \u001b[38;5;129;01mnot\u001b[39;00m signaled:\n\u001b[1;32m--> 655\u001b[0m     signaled \u001b[38;5;241m=\u001b[39m \u001b[38;5;28;43mself\u001b[39;49m\u001b[38;5;241;43m.\u001b[39;49m\u001b[43m_cond\u001b[49m\u001b[38;5;241;43m.\u001b[39;49m\u001b[43mwait\u001b[49m\u001b[43m(\u001b[49m\u001b[43mtimeout\u001b[49m\u001b[43m)\u001b[49m\n\u001b[0;32m    656\u001b[0m \u001b[38;5;28;01mreturn\u001b[39;00m signaled\n",
      "File \u001b[1;32mC:\\Python312\\Lib\\threading.py:359\u001b[0m, in \u001b[0;36mCondition.wait\u001b[1;34m(self, timeout)\u001b[0m\n\u001b[0;32m    357\u001b[0m \u001b[38;5;28;01melse\u001b[39;00m:\n\u001b[0;32m    358\u001b[0m     \u001b[38;5;28;01mif\u001b[39;00m timeout \u001b[38;5;241m>\u001b[39m \u001b[38;5;241m0\u001b[39m:\n\u001b[1;32m--> 359\u001b[0m         gotit \u001b[38;5;241m=\u001b[39m \u001b[43mwaiter\u001b[49m\u001b[38;5;241;43m.\u001b[39;49m\u001b[43macquire\u001b[49m\u001b[43m(\u001b[49m\u001b[38;5;28;43;01mTrue\u001b[39;49;00m\u001b[43m,\u001b[49m\u001b[43m \u001b[49m\u001b[43mtimeout\u001b[49m\u001b[43m)\u001b[49m\n\u001b[0;32m    360\u001b[0m     \u001b[38;5;28;01melse\u001b[39;00m:\n\u001b[0;32m    361\u001b[0m         gotit \u001b[38;5;241m=\u001b[39m waiter\u001b[38;5;241m.\u001b[39macquire(\u001b[38;5;28;01mFalse\u001b[39;00m)\n",
      "\u001b[1;31mKeyboardInterrupt\u001b[0m: "
     ]
    }
   ],
   "source": [
    "import pandas as pd\n",
    "\n",
    "\n",
    "final_data = []\n",
    "\n",
    "for i in alfas[33:]:\n",
    "    name = next((a for a in allDir if i in a), None)\n",
    "    \n",
    "    if name:  # Eğer dosya adı bulunduysa\n",
    "        tdf = pd.read_csv(workingFolder+\"\\\\\"+name, sep=r'\\s+', skiprows=1)\n",
    "        \n",
    "        tdf.columns = [\"frenkans\", \"emilim\"]\n",
    "        \n",
    "        tdf = tdf.iloc[1:].reset_index(drop=True)\n",
    "        \n",
    "        frenkans = tdf.iloc[:, 0]\n",
    "        emilim = tdf.iloc[:, 1]\n",
    "        \n",
    "        aa = [i] * len(tdf)  # her satır için aynı alfas değeri\n",
    "        \n",
    "        # DataFrame oluşturuyoruz\n",
    "        data = {\n",
    "            \"Alfas\": aa,\n",
    "            \"Frenkans\": frenkans,\n",
    "            \"Emilim\": emilim\n",
    "        }\n",
    "        \n",
    "        # Bu veriyi final listesine ekliyoruz\n",
    "        realData = pd.DataFrame(data)\n",
    "        final_data.append(realData)\n",
    "\n",
    "# Bütün DataFrame'leri birleştiriyoruz\n",
    "final_df = pd.concat(final_data, ignore_index=True)\n",
    "\n",
    "# Verinin tamamını görebilirsiniz\n",
    "print(final_df)\n"
   ]
  },
  {
   "cell_type": "code",
   "execution_count": 86,
   "metadata": {},
   "outputs": [],
   "source": [
    "final_df.to_csv(\"final_data.csv\", index=False)\n"
   ]
  },
  {
   "cell_type": "code",
   "execution_count": 2,
   "metadata": {},
   "outputs": [],
   "source": [
    "ali=pd.read_csv(\"final_data.csv\")"
   ]
  },
  {
   "cell_type": "code",
   "execution_count": 3,
   "metadata": {},
   "outputs": [
    {
     "data": {
      "text/plain": [
       "34034"
      ]
     },
     "execution_count": 3,
     "metadata": {},
     "output_type": "execute_result"
    }
   ],
   "source": [
    "len(ali)"
   ]
  },
  {
   "cell_type": "code",
   "execution_count": 4,
   "metadata": {},
   "outputs": [
    {
     "data": {
      "text/plain": [
       "(34034, 3)"
      ]
     },
     "execution_count": 4,
     "metadata": {},
     "output_type": "execute_result"
    }
   ],
   "source": [
    "ali.shape"
   ]
  },
  {
   "cell_type": "code",
   "execution_count": 5,
   "metadata": {},
   "outputs": [
    {
     "data": {
      "text/plain": [
       "Index(['Alfas', 'Frenkans', 'Emilim'], dtype='object')"
      ]
     },
     "execution_count": 5,
     "metadata": {},
     "output_type": "execute_result"
    }
   ],
   "source": [
    "ali.columns"
   ]
  },
  {
   "cell_type": "code",
   "execution_count": 8,
   "metadata": {},
   "outputs": [
    {
     "data": {
      "text/plain": [
       "(       Alfas  Frenkans    Emilim\n",
       " 34029    2.0    19.924  0.969170\n",
       " 34030    2.0    19.943  0.969115\n",
       " 34031    2.0    19.962  0.969060\n",
       " 34032    2.0    19.981  0.969005\n",
       " 34033    2.0    20.000  0.968950,\n",
       "    Alfas  Frenkans    Emilim\n",
       " 0   1.66     1.000  0.803021\n",
       " 1   1.66     1.019  0.805422\n",
       " 2   1.66     1.038  0.807794\n",
       " 3   1.66     1.057  0.810139\n",
       " 4   1.66     1.076  0.812456)"
      ]
     },
     "execution_count": 8,
     "metadata": {},
     "output_type": "execute_result"
    }
   ],
   "source": [
    "ali.tail(),ali.head()"
   ]
  },
  {
   "cell_type": "code",
   "execution_count": null,
   "metadata": {},
   "outputs": [],
   "source": []
  }
 ],
 "metadata": {
  "kernelspec": {
   "display_name": "myenv",
   "language": "python",
   "name": "python3"
  },
  "language_info": {
   "codemirror_mode": {
    "name": "ipython",
    "version": 3
   },
   "file_extension": ".py",
   "mimetype": "text/x-python",
   "name": "python",
   "nbconvert_exporter": "python",
   "pygments_lexer": "ipython3",
   "version": "3.12.6"
  }
 },
 "nbformat": 4,
 "nbformat_minor": 2
}
